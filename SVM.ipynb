{
 "cells": [
  {
   "cell_type": "code",
   "execution_count": 87,
   "id": "eaf4a16c",
   "metadata": {},
   "outputs": [],
   "source": [
    "# Used libraries\n",
    "import pandas as pd\n",
    "from sklearn.preprocessing import LabelEncoder\n",
    "from sklearn.preprocessing import MinMaxScaler\n",
    "from sklearn.model_selection import train_test_split\n",
    "from sklearn.neighbors import KNeighborsClassifier\n",
    "from sklearn.svm import SVC\n",
    "from sklearn.preprocessing import MinMaxScaler\n",
    "from sklearn.preprocessing import LabelEncoder\n",
    "from sklearn.model_selection import GridSearchCV\n",
    "\n",
    "import warnings\n",
    "warnings.filterwarnings(\"ignore\")\n",
    "from sklearn.metrics import classification_report"
   ]
  },
  {
   "cell_type": "code",
   "execution_count": 99,
   "id": "a3c0b130",
   "metadata": {},
   "outputs": [],
   "source": [
    "# load data\n",
    "df = pd.read_csv('Amazon Customer Behavior Survey.csv')\n",
    "df.drop('Timestamp', axis=1, inplace=True)"
   ]
  },
  {
   "cell_type": "code",
   "execution_count": 95,
   "id": "c606ecfe",
   "metadata": {},
   "outputs": [],
   "source": [
    "# Initialize instances from imported classes. These are prepocessing tools to encode labels and scale features\n",
    "le = LabelEncoder()\n",
    "scaler = MinMaxScaler()"
   ]
  },
  {
   "cell_type": "code",
   "execution_count": 101,
   "id": "ebc6c372",
   "metadata": {},
   "outputs": [],
   "source": [
    "# Data Preprocessing\n",
    "age_bin = [20, 30, 40, 50, 60, 70, float('inf')]\n",
    "age_label = ['20-29', '30-39', '40-49', '50-59', '60-69', '70+']\n",
    "df['Age_Groups'] = pd.cut(df['age'], bins=age_bin, labels=age_label, right=False)"
   ]
  },
  {
   "cell_type": "code",
   "execution_count": 102,
   "id": "bac87e72",
   "metadata": {},
   "outputs": [],
   "source": [
    "# Convert all dtypes to int\n",
    "cols=[\"age\",\"Gender\",\"Purchase_Categories\",\"Purchase_Frequency\",\n",
    "     \"Personalized_Recommendation_Frequency\",\"Recommendation_Helpfulness\",\n",
    "     \"Browsing_Frequency\",\"Product_Search_Method\",\"Search_Result_Exploration\",\n",
    "     \"Add_to_Cart_Browsing\",\"Cart_Completion_Frequency\",\n",
    "     \"Cart_Abandonment_Factors\",\"Saveforlater_Frequency\",\n",
    "     \"Review_Left\",\"Review_Reliability\",\"Review_Helpfulness\",\n",
    "     \"Service_Appreciation\",\"Improvement_Areas\",'Age_Groups']\n",
    "\n",
    "for c in cols:\n",
    "  df[c]=le.fit_transform(df[c])"
   ]
  },
  {
   "cell_type": "markdown",
   "id": "8a36ba40",
   "metadata": {},
   "source": [
    "## Specify Target and Feature Column for SVM analysis"
   ]
  },
  {
   "cell_type": "code",
   "execution_count": 103,
   "id": "13a21c6b",
   "metadata": {},
   "outputs": [],
   "source": [
    "# Selecting target and feature columns for SVM analysis\n",
    "target = df['Recommendation_Helpfulness']\n",
    "\n",
    "featureslst=df.drop(['age', 'Gender','Purchase_Frequency',\n",
    "              'Purchase_Categories', 'Browsing_Frequency','Product_Search_Method',\n",
    "              'Customer_Reviews_Importance','Cart_Abandonment_Factors',\n",
    "              'Saveforlater_Frequency','Recommendation_Helpfulness',\n",
    "              \"Service_Appreciation\",\"Improvement_Areas\"],axis=1)\n"
   ]
  },
  {
   "cell_type": "code",
   "execution_count": 104,
   "id": "3f1b31e8",
   "metadata": {},
   "outputs": [],
   "source": [
    "# Split test and train data with the classic Hitchhiker reference \n",
    "X_train,X_test,y_train,y_test=train_test_split(featureslst,target,test_size=0.2,random_state=42)"
   ]
  },
  {
   "cell_type": "code",
   "execution_count": 105,
   "id": "0f41445e",
   "metadata": {},
   "outputs": [
    {
     "name": "stdout",
     "output_type": "stream",
     "text": [
      "[2 1 1 2 1 1 1 1 1 1 1 0 2 1 0 1 2 2 1 1 0 1 2 1 1 1 2 2 0 1 1 2 1 2 0 1 2\n",
      " 0 1 0 1 1 2 1 1 2 1 2 1 1 0 0 1 2 1 1 2 0 1 1 1 0 2 2 1 2 1 1 1 1 0 1 1 1\n",
      " 1 0 1 2 1 1 0 2 2 2 1 2 0 2 1 1 1 1 2 0 1 2 2 1 2 1 2 1 2 1 1 1 0 0 0 1 0\n",
      " 1 1 1 1 1 2 1 1 0 0]\n"
     ]
    }
   ],
   "source": [
    "# Initialize support vector with optimal parameters\n",
    "clf_sv=SVC(C=1, \n",
    "        kernel= 'linear')\n",
    "# Fit the SVC classifier on the training sets\n",
    "clf_sv.fit(X_train,y_train)\n",
    "\n",
    "# Classifier predictions on the test data\n",
    "clf_svPred=clf_sv.predict(X_test)\n",
    "print(clf_svPred)"
   ]
  },
  {
   "cell_type": "code",
   "execution_count": 106,
   "id": "5f402bf4",
   "metadata": {},
   "outputs": [
    {
     "name": "stdout",
     "output_type": "stream",
     "text": [
      "              precision    recall  f1-score   support\n",
      "\n",
      "           0       0.55      0.44      0.49        27\n",
      "           1       0.64      0.75      0.69        57\n",
      "           2       0.53      0.46      0.49        37\n",
      "\n",
      "    accuracy                           0.60       121\n",
      "   macro avg       0.57      0.55      0.56       121\n",
      "weighted avg       0.59      0.60      0.59       121\n",
      "\n"
     ]
    }
   ],
   "source": [
    "# Accuracy, precision\n",
    "print(classification_report(y_test, clf_svPred))"
   ]
  },
  {
   "cell_type": "code",
   "execution_count": 107,
   "id": "14aa9c18",
   "metadata": {},
   "outputs": [
    {
     "name": "stdout",
     "output_type": "stream",
     "text": [
      "['40-49']\n"
     ]
    }
   ],
   "source": [
    "# Predict purchase category\n",
    "prediction = clf_sv.predict([[1, 0, 3, 1, 0, 0, 4, 0, 3, 0, 1]])\n",
    "\n",
    "# Display input and predicted output\n",
    "print(list(le.inverse_transform(prediction)))"
   ]
  },
  {
   "cell_type": "markdown",
   "id": "14026fe4",
   "metadata": {},
   "source": [
    "## KNN comparisons"
   ]
  },
  {
   "cell_type": "code",
   "execution_count": 108,
   "id": "91091d87",
   "metadata": {},
   "outputs": [
    {
     "name": "stdout",
     "output_type": "stream",
     "text": [
      "KNeighborsClassifier()\n"
     ]
    }
   ],
   "source": [
    "#KNN\n",
    "clf_knn=KNeighborsClassifier()\n",
    "clf_knn.fit(X_train,y_train)\n",
    "clf_knnpred=clf_knn.predict(X_test)\n",
    "print(clf_knn)"
   ]
  },
  {
   "cell_type": "code",
   "execution_count": 109,
   "id": "c6184300",
   "metadata": {},
   "outputs": [
    {
     "data": {
      "text/plain": [
       "GridSearchCV(cv=5, estimator=KNeighborsClassifier(),\n",
       "             param_grid={'algorithm': ['auto', 'ball_tree', 'kd_tree', 'brute'],\n",
       "                         'n_neighbors': [3, 5, 7, 9],\n",
       "                         'weights': ['uniform', 'distance']},\n",
       "             scoring='accuracy')"
      ]
     },
     "execution_count": 109,
     "metadata": {},
     "output_type": "execute_result"
    }
   ],
   "source": [
    "# Define hyperparameters for K-Nearest Neighbors\n",
    "param_grid = {\n",
    "    'n_neighbors': [3, 5, 7, 9],\n",
    "    'weights': ['uniform', 'distance'],\n",
    "    'algorithm': ['auto', 'ball_tree', 'kd_tree', 'brute']\n",
    "}\n",
    "\n",
    "# Initializing K-Nearest Neighbors Classifier\n",
    "knn = KNeighborsClassifier()\n",
    "\n",
    "# Using GridSearchCV to find the best hyperparameters\n",
    "grid_search = GridSearchCV(knn, param_grid, cv=5, scoring='accuracy')\n",
    "\n",
    "# Fitting GridSearchCV with the training data\n",
    "grid_search.fit(X_train, y_train)"
   ]
  },
  {
   "cell_type": "code",
   "execution_count": 110,
   "id": "03eea2e7",
   "metadata": {},
   "outputs": [
    {
     "name": "stdout",
     "output_type": "stream",
     "text": [
      "              precision    recall  f1-score   support\n",
      "\n",
      "           0       0.37      0.48      0.42        27\n",
      "           1       0.52      0.65      0.58        57\n",
      "           2       0.60      0.24      0.35        37\n",
      "\n",
      "    accuracy                           0.49       121\n",
      "   macro avg       0.50      0.46      0.45       121\n",
      "weighted avg       0.51      0.49      0.47       121\n",
      "\n"
     ]
    }
   ],
   "source": [
    "print(classification_report(y_test, clf_knnpred))"
   ]
  },
  {
   "cell_type": "code",
   "execution_count": 111,
   "id": "78de155c",
   "metadata": {},
   "outputs": [
    {
     "name": "stdout",
     "output_type": "stream",
     "text": [
      "110    2\n",
      "419    2\n",
      "567    1\n",
      "77     1\n",
      "181    1\n",
      "      ..\n",
      "340    1\n",
      "148    0\n",
      "495    2\n",
      "439    1\n",
      "145    0\n",
      "Name: Recommendation_Helpfulness, Length: 121, dtype: int32\n"
     ]
    }
   ],
   "source": [
    "print(y_test)"
   ]
  }
 ],
 "metadata": {
  "kernelspec": {
   "display_name": "Python 3 (ipykernel)",
   "language": "python",
   "name": "python3"
  },
  "language_info": {
   "codemirror_mode": {
    "name": "ipython",
    "version": 3
   },
   "file_extension": ".py",
   "mimetype": "text/x-python",
   "name": "python",
   "nbconvert_exporter": "python",
   "pygments_lexer": "ipython3",
   "version": "3.9.13"
  }
 },
 "nbformat": 4,
 "nbformat_minor": 5
}
