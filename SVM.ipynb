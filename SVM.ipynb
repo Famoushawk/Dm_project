{
 "cells": [
  {
   "cell_type": "code",
   "execution_count": 43,
   "id": "eaf4a16c",
   "metadata": {},
   "outputs": [],
   "source": [
    "# Used libraries\n",
    "import pandas as pd\n",
    "import numpy as np\n",
    "from sklearn.preprocessing import LabelEncoder\n",
    "from sklearn.preprocessing import MinMaxScaler\n",
    "from sklearn.model_selection import train_test_split\n",
    "from sklearn.neighbors import KNeighborsClassifier\n",
    "from sklearn.svm import SVC\n",
    "from sklearn.preprocessing import MinMaxScaler\n",
    "from sklearn.preprocessing import LabelEncoder\n",
    "from sklearn.model_selection import GridSearchCV\n",
    "\n",
    "import warnings\n",
    "warnings.filterwarnings(\"ignore\")\n",
    "from sklearn.metrics import classification_report"
   ]
  },
  {
   "cell_type": "code",
   "execution_count": 44,
   "id": "a3c0b130",
   "metadata": {},
   "outputs": [],
   "source": [
    "# load data\n",
    "df = pd.read_csv('Amazon Customer Behavior Survey.csv')"
   ]
  },
  {
   "cell_type": "code",
   "execution_count": 45,
   "id": "c606ecfe",
   "metadata": {},
   "outputs": [],
   "source": [
    "# Initialize instances from imported classes.\n",
    "le = LabelEncoder()\n",
    "scaler = MinMaxScaler()"
   ]
  },
  {
   "cell_type": "code",
   "execution_count": 46,
   "id": "ebc6c372",
   "metadata": {},
   "outputs": [],
   "source": [
    "# Data Preprocessing\n",
    "df.drop('Timestamp', axis=1, inplace=True)\n",
    "\n",
    "age_bin = [18, 30, 35, 45, 55, float('inf')]\n",
    "age_label = ['18-29', '30-34', '35-44', '45-54', '55+']\n",
    "df['Age_Groups'] = pd.cut(df['age'], bins=age_bin, labels=age_label, right=False)"
   ]
  },
  {
   "cell_type": "code",
   "execution_count": 47,
   "id": "bac87e72",
   "metadata": {},
   "outputs": [],
   "source": [
    "# Convert all dtypes to int\n",
    "cols=[\"age\",\"Gender\",\"Purchase_Categories\",\"Purchase_Frequency\",\n",
    "     \"Personalized_Recommendation_Frequency\",\"Recommendation_Helpfulness\",\n",
    "     \"Browsing_Frequency\",\"Product_Search_Method\",\"Search_Result_Exploration\",\n",
    "     \"Add_to_Cart_Browsing\",\"Cart_Completion_Frequency\",\n",
    "     \"Cart_Abandonment_Factors\",\"Saveforlater_Frequency\",\n",
    "     \"Review_Left\",\"Review_Reliability\",\"Review_Helpfulness\",\n",
    "     \"Service_Appreciation\",\"Improvement_Areas\",'Age_Groups']\n",
    "\n",
    "for c in cols:\n",
    "  df[c]=le.fit_transform(df[c])"
   ]
  },
  {
   "cell_type": "markdown",
   "id": "8a36ba40",
   "metadata": {},
   "source": [
    "## Specify Target and Feature Column for SVM analysis"
   ]
  },
  {
   "cell_type": "code",
   "execution_count": 48,
   "id": "13a21c6b",
   "metadata": {},
   "outputs": [],
   "source": [
    "target = df['Recommendation_Helpfulness']\n",
    "\n",
    "featureslst=df.drop(['age', 'Gender','Purchase_Frequency',\n",
    "              'Purchase_Categories', 'Browsing_Frequency','Product_Search_Method',\n",
    "              'Customer_Reviews_Importance','Cart_Abandonment_Factors',\n",
    "              'Saveforlater_Frequency','Recommendation_Helpfulness',\n",
    "              \"Service_Appreciation\",\"Improvement_Areas\"],axis=1)\n"
   ]
  },
  {
   "cell_type": "code",
   "execution_count": 49,
   "id": "3f1b31e8",
   "metadata": {},
   "outputs": [],
   "source": [
    "# Split test and train data\n",
    "X_train,X_test,y_train,y_test=train_test_split(featureslst,target,test_size=0.2,random_state=42)"
   ]
  },
  {
   "cell_type": "code",
   "execution_count": 50,
   "id": "0f41445e",
   "metadata": {},
   "outputs": [
    {
     "name": "stdout",
     "output_type": "stream",
     "text": [
      "[2 1 1 2 1 1 1 1 1 1 1 0 2 1 0 1 2 2 1 1 0 1 1 1 1 1 2 2 0 1 1 0 1 2 0 1 2\n",
      " 0 1 0 1 1 2 1 1 2 1 2 1 1 0 0 1 2 1 1 2 0 1 1 1 0 2 2 1 2 1 1 1 1 0 1 1 1\n",
      " 1 0 1 1 1 1 0 2 2 2 1 2 0 2 1 1 1 1 2 0 1 2 2 1 2 1 2 1 2 1 1 1 0 0 0 1 2\n",
      " 1 1 1 1 1 2 1 1 0 0]\n"
     ]
    }
   ],
   "source": [
    "# Initialize support vector with optimal parameters\n",
    "clf_sv=SVC(C=1, \n",
    "        kernel= 'linear')\n",
    "# Fit the SVC classifier on the training sets\n",
    "clf_sv.fit(X_train,y_train)\n",
    "\n",
    "# Classifier predictions on the test data\n",
    "clf_svPred=clf_sv.predict(X_test)\n",
    "print(clf_svPred)"
   ]
  },
  {
   "cell_type": "code",
   "execution_count": 51,
   "id": "5f402bf4",
   "metadata": {},
   "outputs": [
    {
     "name": "stdout",
     "output_type": "stream",
     "text": [
      "              precision    recall  f1-score   support\n",
      "\n",
      "           0       0.55      0.44      0.49        27\n",
      "           1       0.64      0.77      0.70        57\n",
      "           2       0.57      0.46      0.51        37\n",
      "\n",
      "    accuracy                           0.60       121\n",
      "   macro avg       0.58      0.56      0.57       121\n",
      "weighted avg       0.60      0.60      0.59       121\n",
      "\n"
     ]
    }
   ],
   "source": [
    "# Accuracy, precision\n",
    "print(classification_report(y_test, clf_svPred))"
   ]
  },
  {
   "cell_type": "code",
   "execution_count": 53,
   "id": "14aa9c18",
   "metadata": {},
   "outputs": [
    {
     "name": "stdout",
     "output_type": "stream",
     "text": [
      "['35-44']\n"
     ]
    }
   ],
   "source": [
    "# Predict purchase category\n",
    "prediction = clf_sv.predict([[1, 0, 3, 1, 0, 0, 4, 0, 3, 0, 1]])\n",
    "\n",
    "# Display input and predicted output\n",
    "print(list(le.inverse_transform(prediction)))\n",
    "\n"
   ]
  },
  {
   "cell_type": "markdown",
   "id": "14026fe4",
   "metadata": {},
   "source": [
    "## KNN comparisons"
   ]
  },
  {
   "cell_type": "code",
   "execution_count": null,
   "id": "91091d87",
   "metadata": {},
   "outputs": [
    {
     "name": "stdout",
     "output_type": "stream",
     "text": [
      "KNeighborsClassifier()\n"
     ]
    }
   ],
   "source": [
    "#KNN\n",
    "clf_knn=KNeighborsClassifier()\n",
    "clf_knn.fit(X_train,y_train)\n",
    "clf_knnpred=clf_knn.predict(X_test)\n",
    "print(clf_knn)"
   ]
  },
  {
   "cell_type": "code",
   "execution_count": null,
   "id": "c6184300",
   "metadata": {},
   "outputs": [
    {
     "data": {
      "text/plain": [
       "GridSearchCV(cv=5, estimator=KNeighborsClassifier(),\n",
       "             param_grid={'algorithm': ['auto', 'ball_tree', 'kd_tree', 'brute'],\n",
       "                         'n_neighbors': [3, 5, 7, 9],\n",
       "                         'weights': ['uniform', 'distance']},\n",
       "             scoring='accuracy')"
      ]
     },
     "execution_count": 15,
     "metadata": {},
     "output_type": "execute_result"
    }
   ],
   "source": [
    "# Define hyperparameters for K-Nearest Neighbors\n",
    "param_grid = {\n",
    "    'n_neighbors': [3, 5, 7, 9],\n",
    "    'weights': ['uniform', 'distance'],\n",
    "    'algorithm': ['auto', 'ball_tree', 'kd_tree', 'brute']\n",
    "}\n",
    "\n",
    "# Initializing K-Nearest Neighbors Classifier\n",
    "knn = KNeighborsClassifier()\n",
    "\n",
    "# Using GridSearchCV to find the best hyperparameters\n",
    "grid_search = GridSearchCV(knn, param_grid, cv=5, scoring='accuracy')\n",
    "\n",
    "# Fitting GridSearchCV with the training data\n",
    "grid_search.fit(X_train, y_train)"
   ]
  },
  {
   "cell_type": "code",
   "execution_count": null,
   "id": "03eea2e7",
   "metadata": {},
   "outputs": [
    {
     "name": "stdout",
     "output_type": "stream",
     "text": [
      "              precision    recall  f1-score   support\n",
      "\n",
      "           0       0.39      0.56      0.46        27\n",
      "           1       0.57      0.63      0.60        57\n",
      "           2       0.65      0.35      0.46        37\n",
      "\n",
      "    accuracy                           0.53       121\n",
      "   macro avg       0.54      0.51      0.51       121\n",
      "weighted avg       0.56      0.53      0.53       121\n",
      "\n"
     ]
    }
   ],
   "source": [
    "print(classification_report(y_test, clf_knnpred))"
   ]
  },
  {
   "cell_type": "code",
   "execution_count": null,
   "id": "78de155c",
   "metadata": {},
   "outputs": [
    {
     "name": "stdout",
     "output_type": "stream",
     "text": [
      "110    2\n",
      "419    2\n",
      "567    1\n",
      "77     1\n",
      "181    1\n",
      "      ..\n",
      "340    1\n",
      "148    0\n",
      "495    2\n",
      "439    1\n",
      "145    0\n",
      "Name: Recommendation_Helpfulness, Length: 121, dtype: int32\n"
     ]
    }
   ],
   "source": [
    "print(y_test)"
   ]
  },
  {
   "cell_type": "code",
   "execution_count": 56,
   "id": "4650e9e4",
   "metadata": {},
   "outputs": [
    {
     "ename": "NameError",
     "evalue": "name 'clf' is not defined",
     "output_type": "error",
     "traceback": [
      "\u001b[1;31m---------------------------------------------------------------------------\u001b[0m",
      "\u001b[1;31mNameError\u001b[0m                                 Traceback (most recent call last)",
      "\u001b[1;32m~\\AppData\\Local\\Temp\\ipykernel_16752\\3443465167.py\u001b[0m in \u001b[0;36m<module>\u001b[1;34m\u001b[0m\n\u001b[1;32m----> 1\u001b[1;33m \u001b[0mprint\u001b[0m\u001b[1;33m(\u001b[0m\u001b[0mclf\u001b[0m\u001b[1;33m.\u001b[0m\u001b[0mbest_params_\u001b[0m\u001b[1;33m)\u001b[0m\u001b[1;33m\u001b[0m\u001b[1;33m\u001b[0m\u001b[0m\n\u001b[0m",
      "\u001b[1;31mNameError\u001b[0m: name 'clf' is not defined"
     ]
    }
   ],
   "source": [
    "print(clf.best_params_)"
   ]
  },
  {
   "cell_type": "markdown",
   "id": "568826c8",
   "metadata": {},
   "source": [
    "## Some fluff."
   ]
  },
  {
   "cell_type": "code",
   "execution_count": null,
   "id": "962934d8",
   "metadata": {},
   "outputs": [],
   "source": [
    "X = df[['age', 'Gender']]\n",
    "y = df[\"Purchase_Categories\"]\n"
   ]
  },
  {
   "cell_type": "code",
   "execution_count": null,
   "id": "0890901c",
   "metadata": {},
   "outputs": [
    {
     "name": "stdout",
     "output_type": "stream",
     "text": [
      "              precision    recall  f1-score   support\n",
      "\n",
      "           0       0.16      0.38      0.22         8\n",
      "           1       0.50      0.12      0.20         8\n",
      "           2       0.14      0.25      0.18         4\n",
      "           3       0.00      0.00      0.00         1\n",
      "           4       0.00      0.00      0.00         1\n",
      "           6       0.00      0.00      0.00         1\n",
      "           8       0.00      0.00      0.00         8\n",
      "           9       0.00      0.00      0.00         5\n",
      "          10       0.00      0.00      0.00         2\n",
      "          11       0.00      0.00      0.00         3\n",
      "          13       0.00      0.00      0.00         2\n",
      "          14       0.00      0.00      0.00         1\n",
      "          15       0.00      0.00      0.00         2\n",
      "          16       0.00      0.00      0.00         3\n",
      "          19       0.00      0.00      0.00         1\n",
      "          21       0.00      0.00      0.00         1\n",
      "          22       0.00      0.00      0.00         0\n",
      "          24       0.00      0.00      0.00         1\n",
      "          25       0.00      0.00      0.00         1\n",
      "          26       0.00      0.00      0.00         4\n",
      "          28       0.08      0.25      0.12         4\n",
      "\n",
      "    accuracy                           0.10        61\n",
      "   macro avg       0.04      0.05      0.03        61\n",
      "weighted avg       0.10      0.10      0.08        61\n",
      "\n"
     ]
    }
   ],
   "source": [
    "# Splitting the data into training and testing sets\n",
    "X_train, X_test, y_train, y_test = train_test_split(X, y, test_size=0.1, random_state=4)\n",
    "\n",
    "# SVM classifier\n",
    "sv = SVC(C=10, gamma=1, kernel='rbf')\n",
    "sv.fit(X_train, y_train)\n",
    "y_pred = sv.predict(X_test)\n",
    "\n",
    "# Classification report\n",
    "print(classification_report(y_test, y_pred))\n"
   ]
  },
  {
   "cell_type": "code",
   "execution_count": null,
   "id": "2627abbb",
   "metadata": {},
   "outputs": [
    {
     "ename": "ValueError",
     "evalue": "y contains previously unseen labels: [26]",
     "output_type": "error",
     "traceback": [
      "\u001b[1;31m---------------------------------------------------------------------------\u001b[0m",
      "\u001b[1;31mValueError\u001b[0m                                Traceback (most recent call last)",
      "\u001b[1;32m~\\AppData\\Local\\Temp\\ipykernel_7032\\2659282953.py\u001b[0m in \u001b[0;36m<module>\u001b[1;34m\u001b[0m\n\u001b[0;32m      4\u001b[0m \u001b[1;33m\u001b[0m\u001b[0m\n\u001b[0;32m      5\u001b[0m \u001b[1;31m# Display the predicted purchase category\u001b[0m\u001b[1;33m\u001b[0m\u001b[1;33m\u001b[0m\u001b[0m\n\u001b[1;32m----> 6\u001b[1;33m \u001b[0mprint\u001b[0m\u001b[1;33m(\u001b[0m\u001b[0mlist\u001b[0m\u001b[1;33m(\u001b[0m\u001b[0mle\u001b[0m\u001b[1;33m.\u001b[0m\u001b[0minverse_transform\u001b[0m\u001b[1;33m(\u001b[0m\u001b[0mpredicted_category\u001b[0m\u001b[1;33m)\u001b[0m\u001b[1;33m)\u001b[0m\u001b[1;33m)\u001b[0m\u001b[1;33m\u001b[0m\u001b[1;33m\u001b[0m\u001b[0m\n\u001b[0m\u001b[0;32m      7\u001b[0m \u001b[1;33m\u001b[0m\u001b[0m\n\u001b[0;32m      8\u001b[0m \u001b[1;31m# ^Chatgpt\u001b[0m\u001b[1;33m\u001b[0m\u001b[1;33m\u001b[0m\u001b[0m\n",
      "\u001b[1;32mc:\\Users\\chris\\anaconda3\\lib\\site-packages\\sklearn\\preprocessing\\_label.py\u001b[0m in \u001b[0;36minverse_transform\u001b[1;34m(self, y)\u001b[0m\n\u001b[0;32m    159\u001b[0m         \u001b[0mdiff\u001b[0m \u001b[1;33m=\u001b[0m \u001b[0mnp\u001b[0m\u001b[1;33m.\u001b[0m\u001b[0msetdiff1d\u001b[0m\u001b[1;33m(\u001b[0m\u001b[0my\u001b[0m\u001b[1;33m,\u001b[0m \u001b[0mnp\u001b[0m\u001b[1;33m.\u001b[0m\u001b[0marange\u001b[0m\u001b[1;33m(\u001b[0m\u001b[0mlen\u001b[0m\u001b[1;33m(\u001b[0m\u001b[0mself\u001b[0m\u001b[1;33m.\u001b[0m\u001b[0mclasses_\u001b[0m\u001b[1;33m)\u001b[0m\u001b[1;33m)\u001b[0m\u001b[1;33m)\u001b[0m\u001b[1;33m\u001b[0m\u001b[1;33m\u001b[0m\u001b[0m\n\u001b[0;32m    160\u001b[0m         \u001b[1;32mif\u001b[0m \u001b[0mlen\u001b[0m\u001b[1;33m(\u001b[0m\u001b[0mdiff\u001b[0m\u001b[1;33m)\u001b[0m\u001b[1;33m:\u001b[0m\u001b[1;33m\u001b[0m\u001b[1;33m\u001b[0m\u001b[0m\n\u001b[1;32m--> 161\u001b[1;33m             \u001b[1;32mraise\u001b[0m \u001b[0mValueError\u001b[0m\u001b[1;33m(\u001b[0m\u001b[1;34m\"y contains previously unseen labels: %s\"\u001b[0m \u001b[1;33m%\u001b[0m \u001b[0mstr\u001b[0m\u001b[1;33m(\u001b[0m\u001b[0mdiff\u001b[0m\u001b[1;33m)\u001b[0m\u001b[1;33m)\u001b[0m\u001b[1;33m\u001b[0m\u001b[1;33m\u001b[0m\u001b[0m\n\u001b[0m\u001b[0;32m    162\u001b[0m         \u001b[0my\u001b[0m \u001b[1;33m=\u001b[0m \u001b[0mnp\u001b[0m\u001b[1;33m.\u001b[0m\u001b[0masarray\u001b[0m\u001b[1;33m(\u001b[0m\u001b[0my\u001b[0m\u001b[1;33m)\u001b[0m\u001b[1;33m\u001b[0m\u001b[1;33m\u001b[0m\u001b[0m\n\u001b[0;32m    163\u001b[0m         \u001b[1;32mreturn\u001b[0m \u001b[0mself\u001b[0m\u001b[1;33m.\u001b[0m\u001b[0mclasses_\u001b[0m\u001b[1;33m[\u001b[0m\u001b[0my\u001b[0m\u001b[1;33m]\u001b[0m\u001b[1;33m\u001b[0m\u001b[1;33m\u001b[0m\u001b[0m\n",
      "\u001b[1;31mValueError\u001b[0m: y contains previously unseen labels: [26]"
     ]
    }
   ],
   "source": [
    "new_features = [[0, 2]] \n",
    "predicted_category = sv.predict(new_features)\n",
    "\n",
    "# Display the predicted purchase category\n",
    "print(list(le.inverse_transform(predicted_category)))"
   ]
  }
 ],
 "metadata": {
  "kernelspec": {
   "display_name": "Python 3 (ipykernel)",
   "language": "python",
   "name": "python3"
  },
  "language_info": {
   "codemirror_mode": {
    "name": "ipython",
    "version": 3
   },
   "file_extension": ".py",
   "mimetype": "text/x-python",
   "name": "python",
   "nbconvert_exporter": "python",
   "pygments_lexer": "ipython3",
   "version": "3.9.13"
  }
 },
 "nbformat": 4,
 "nbformat_minor": 5
}
